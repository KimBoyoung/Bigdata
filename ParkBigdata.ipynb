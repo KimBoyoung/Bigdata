{
 "cells": [
  {
   "cell_type": "code",
   "execution_count": null,
   "metadata": {},
   "outputs": [],
   "source": [
    "import pandas as pd\n",
    "from bs4 import BeautifulSoup\n",
    "import requests\n",
    "import locale\n",
    "import datetime\n",
    "\n",
    "startdate = [200901, 200902, 200903, 200904, 200905, 200906, 200907, 200908, 200909, 200910, 200911, 200912,\n",
    "             201001, 201002, 201003, 201004, 201005, 201006, 201007, 201008, 201009, 201010, 201011, 201012,\n",
    "             201101, 201102, 201103, 201104, 201105, 201106, 201107, 201108, 201109, 201110, 201111, 201112,\n",
    "             201201, 201202, 201203, 201204, 201205, 201206, 201207, 201208, 201209, 201210, 201211, 201212,\n",
    "             201301, 201302, 201303, 201304, 201305, 201306, 201307, 201308, 201309, 201310, 201311, 201312, \n",
    "             201401, 201402, 201403, 201404, 201405, 201406, 201407, 201408, 201409, 201410, 201411, 201412,\n",
    "             201501, 201502, 201503, 201504, 201505, 201506, 201507, 201508, 201509, 201510, 201511, 201512, \n",
    "             201601, 201602, 201603, 201604, 201605, 201606, 201607, 201608, 201609, 201610, 201611, 201612]\n",
    "\n",
    "doorname = ['정문', '능동문', '구의문', '후문']\n",
    "CountInfor = {}\n",
    "\n",
    "countlist = []\n",
    "doorlist = []\n",
    "datelist = []"
   ]
  },
  {
   "cell_type": "code",
   "execution_count": null,
   "metadata": {},
   "outputs": [],
   "source": [
    "for i in startdate:\n",
    "    for j in doorname:\n",
    "        url = ('http://data.sisul.or.kr/AutoAPI/service/\\\n",
    "        OpenDB/ChildParkEnterStat/getChildParkEnterStatQ\\\n",
    "        ry?pyyyymm='+str(i)+'&pdoor='+str(j)+'&pageNo=1\\\n",
    "        &numOfRows=31&serviceKey=Ejywrxmw8D0xX20QgOuN8%2B0sa%2F5xm91cLDBjPMlmZgg4Dc0twSxgD%2FFhBJm8uF6HbrKKAwzDiOEYL215FRJiZQ%3D%3D')\n",
    "        req = requests.get(url)\n",
    "        html = req.text\n",
    "        soup = BeautifulSoup(html, 'html.parser')\n",
    "\n",
    "        count = soup.find_all('entercount')\n",
    "        door = soup.find_all('inoutdoorcode')\n",
    "        date = soup.find_all('processdate')\n",
    "\n",
    "        for code in count:\n",
    "            countlist.append(code.text)\n",
    "        for code in door:\n",
    "            doorlist.append(code.text)\n",
    "        for code in date:\n",
    "            datelist.append(code.text)\n",
    "\n",
    "yearlist = []\n",
    "monthlist = []\n",
    "daylist = []\n",
    "weeklist = []\n",
    "\n",
    "for x in datelist:\n",
    "    x = x[0:4]\n",
    "    yearlist.append(x)\n",
    "for y in datelist:\n",
    "    y = y[4:6]\n",
    "    monthlist.append(y)\n",
    "for z in datelist:\n",
    "    z = z[6:]\n",
    "    daylist.append(z)\n",
    "\n",
    "locale.setlocale(locale.LC_ALL, 'ko_KR.UTF-8')                    \n",
    "for w in datelist:\n",
    "    date = datetime.datetime.strptime(w, \"%Y%m%d\")\n",
    "    week = date.strftime('%A')\n",
    "    weeklist.append(week)\n",
    "            \n",
    "CountInfor['enter'] = countlist\n",
    "CountInfor['egate'] = doorlist\n",
    "CountInfor['year'] = yearlist\n",
    "CountInfor['month'] = monthlist\n",
    "CountInfor['day'] = daylist\n",
    "CountInfor['weekday'] = weeklist\n",
    "\n",
    "df = pd.DataFrame(CountInfor)"
   ]
  },
  {
   "cell_type": "code",
   "execution_count": null,
   "metadata": {},
   "outputs": [],
   "source": [
    "df.to_csv(\"ChildrenParkData3.csv\", encoding=\"utf-8\")"
   ]
  },
  {
   "cell_type": "code",
   "execution_count": null,
   "metadata": {},
   "outputs": [],
   "source": []
  }
 ],
 "metadata": {
  "kernelspec": {
   "display_name": "Python 3",
   "language": "python",
   "name": "python3"
  },
  "language_info": {
   "codemirror_mode": {
    "name": "ipython",
    "version": 3
   },
   "file_extension": ".py",
   "mimetype": "text/x-python",
   "name": "python",
   "nbconvert_exporter": "python",
   "pygments_lexer": "ipython3",
   "version": "3.7.4"
  }
 },
 "nbformat": 4,
 "nbformat_minor": 2
}
